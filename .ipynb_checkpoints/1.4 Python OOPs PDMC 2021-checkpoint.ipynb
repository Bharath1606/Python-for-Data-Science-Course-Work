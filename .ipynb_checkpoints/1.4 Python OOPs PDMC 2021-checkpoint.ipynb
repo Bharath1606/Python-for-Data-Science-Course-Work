{
 "cells": [
  {
   "cell_type": "code",
   "execution_count": 7,
   "metadata": {},
   "outputs": [],
   "source": [
    "class Human():\n",
    "    pass"
   ]
  },
  {
   "cell_type": "code",
   "execution_count": 10,
   "metadata": {},
   "outputs": [],
   "source": [
    "mohit = Human()"
   ]
  },
  {
   "cell_type": "code",
   "execution_count": 11,
   "metadata": {},
   "outputs": [
    {
     "data": {
      "text/plain": [
       "__main__.Human"
      ]
     },
     "execution_count": 11,
     "metadata": {},
     "output_type": "execute_result"
    }
   ],
   "source": [
    "type (mohit)"
   ]
  },
  {
   "cell_type": "code",
   "execution_count": 21,
   "metadata": {},
   "outputs": [],
   "source": [
    "class Human():\n",
    "    \n",
    "    #constructor\n",
    "    def __init__(self, name, age):\n",
    "        print(\"creating an object...\")\n",
    "        # instance variable\n",
    "        self.name = name\n",
    "        self.age = age"
   ]
  },
  {
   "cell_type": "code",
   "execution_count": 25,
   "metadata": {},
   "outputs": [
    {
     "name": "stdout",
     "output_type": "stream",
     "text": [
      "creating an object...\n"
     ]
    }
   ],
   "source": [
    "h1 = Human(\"Mohit\", 23)"
   ]
  },
  {
   "cell_type": "code",
   "execution_count": 26,
   "metadata": {},
   "outputs": [
    {
     "name": "stdout",
     "output_type": "stream",
     "text": [
      "<__main__.Human object at 0x7fe7df858040>\n"
     ]
    }
   ],
   "source": [
    "print(h1)"
   ]
  },
  {
   "cell_type": "code",
   "execution_count": 31,
   "metadata": {},
   "outputs": [
    {
     "name": "stdout",
     "output_type": "stream",
     "text": [
      "Mohit\n",
      "23\n"
     ]
    }
   ],
   "source": [
    "print(h1.name)\n",
    "print(h1.age)"
   ]
  },
  {
   "cell_type": "code",
   "execution_count": 37,
   "metadata": {},
   "outputs": [],
   "source": [
    "class Human():\n",
    "    \n",
    "    #constructor\n",
    "    def __init__(self, name, age):\n",
    "        print(\"creating an object...\")\n",
    "        # instance variable\n",
    "        self.name = name\n",
    "        self.age = age\n",
    "        \n",
    "    # instance methods\n",
    "    def introduce(self):\n",
    "        print(\"Hi, My name is\", self.name, \"My age is\", self.age)"
   ]
  },
  {
   "cell_type": "code",
   "execution_count": 38,
   "metadata": {},
   "outputs": [
    {
     "name": "stdout",
     "output_type": "stream",
     "text": [
      "creating an object...\n"
     ]
    }
   ],
   "source": [
    "h1 = Human(\"Mohir\", 23)"
   ]
  },
  {
   "cell_type": "code",
   "execution_count": 39,
   "metadata": {},
   "outputs": [
    {
     "name": "stdout",
     "output_type": "stream",
     "text": [
      "Hi, My name is Mohir My age is 23\n"
     ]
    }
   ],
   "source": [
    "h1.introduce()"
   ]
  },
  {
   "cell_type": "code",
   "execution_count": 56,
   "metadata": {},
   "outputs": [],
   "source": [
    "class Human():\n",
    "    \n",
    "    #class variable\n",
    "    database = []\n",
    "    population = 0\n",
    "    id_seq = 100\n",
    "    \n",
    "    \n",
    "    #constructor\n",
    "    def __init__(self, name, age, is_alive=True):\n",
    "        #instance variables\n",
    "        self.name = name\n",
    "        self.age = age\n",
    "        self.is_alive = is_alive\n",
    "        \n",
    "        #adding id of an object\n",
    "        self.id = Human.id_seq\n",
    "        Human.id_seq += 1\n",
    "        Human.population +=1\n",
    "        Human.database.append(self)\n",
    "        \n",
    "\n",
    "    def introduce(self):\n",
    "        print(\"Hi, My name is\", self.name, \"My age is\", self.age)"
   ]
  },
  {
   "cell_type": "code",
   "execution_count": 57,
   "metadata": {},
   "outputs": [],
   "source": [
    "h1 = Human (\"Mohit\", 23)"
   ]
  },
  {
   "cell_type": "code",
   "execution_count": 58,
   "metadata": {},
   "outputs": [
    {
     "name": "stdout",
     "output_type": "stream",
     "text": [
      "100\n"
     ]
    }
   ],
   "source": [
    "print(h1.id)"
   ]
  },
  {
   "cell_type": "code",
   "execution_count": 59,
   "metadata": {},
   "outputs": [
    {
     "data": {
      "text/plain": [
       "1"
      ]
     },
     "execution_count": 59,
     "metadata": {},
     "output_type": "execute_result"
    }
   ],
   "source": [
    "Human.population"
   ]
  },
  {
   "cell_type": "code",
   "execution_count": 60,
   "metadata": {},
   "outputs": [
    {
     "data": {
      "text/plain": [
       "[<__main__.Human at 0x7fe7df858fa0>]"
      ]
     },
     "execution_count": 60,
     "metadata": {},
     "output_type": "execute_result"
    }
   ],
   "source": [
    "Human.database"
   ]
  },
  {
   "cell_type": "code",
   "execution_count": 61,
   "metadata": {},
   "outputs": [],
   "source": [
    "\n",
    "h2 = Human (\"Mohit\", 23)"
   ]
  },
  {
   "cell_type": "code",
   "execution_count": 62,
   "metadata": {},
   "outputs": [
    {
     "name": "stdout",
     "output_type": "stream",
     "text": [
      "101\n"
     ]
    }
   ],
   "source": [
    "print (h2.id)"
   ]
  },
  {
   "cell_type": "code",
   "execution_count": 63,
   "metadata": {},
   "outputs": [
    {
     "data": {
      "text/plain": [
       "2"
      ]
     },
     "execution_count": 63,
     "metadata": {},
     "output_type": "execute_result"
    }
   ],
   "source": [
    "Human.population"
   ]
  },
  {
   "cell_type": "code",
   "execution_count": 80,
   "metadata": {},
   "outputs": [],
   "source": [
    "class Human():\n",
    "    \n",
    "    #class variable\n",
    "    database = []\n",
    "    population = 0\n",
    "    id_seq = 100\n",
    "    \n",
    "    \n",
    "    #constructor\n",
    "    def __init__(self, name, age, is_alive=True):\n",
    "        #instance variables\n",
    "        self.name = name\n",
    "        self.age = age\n",
    "        self.is_alive = is_alive\n",
    "        \n",
    "        #adding id of an object\n",
    "        self.id = Human.id_seq\n",
    "        Human.id_seq += 1\n",
    "        Human.population +=1\n",
    "        Human.database.append(self)\n",
    "        \n",
    "\n",
    "    def introduce(self):\n",
    "        print(\"Hi, My name is\", self.name, \"My age is\", self.age)\n",
    "        \n",
    "    def die(self):\n",
    "        if self.is_alive:\n",
    "            print(self.name, \"is dying\")\n",
    "            self.is_alive = False\n",
    "            Human.population -=1\n",
    "        else:\n",
    "            print(\"{} is already dead\".format(self.name))"
   ]
  },
  {
   "cell_type": "code",
   "execution_count": 81,
   "metadata": {},
   "outputs": [],
   "source": [
    "h1 = Human (\"Mohit\", 23)"
   ]
  },
  {
   "cell_type": "code",
   "execution_count": 82,
   "metadata": {},
   "outputs": [
    {
     "data": {
      "text/plain": [
       "1"
      ]
     },
     "execution_count": 82,
     "metadata": {},
     "output_type": "execute_result"
    }
   ],
   "source": [
    "Human.population"
   ]
  },
  {
   "cell_type": "code",
   "execution_count": 83,
   "metadata": {},
   "outputs": [
    {
     "data": {
      "text/plain": [
       "True"
      ]
     },
     "execution_count": 83,
     "metadata": {},
     "output_type": "execute_result"
    }
   ],
   "source": [
    "h1.is_alive"
   ]
  },
  {
   "cell_type": "code",
   "execution_count": 84,
   "metadata": {},
   "outputs": [
    {
     "name": "stdout",
     "output_type": "stream",
     "text": [
      "Mohit is dying\n"
     ]
    }
   ],
   "source": [
    "h1.die()"
   ]
  },
  {
   "cell_type": "code",
   "execution_count": 85,
   "metadata": {},
   "outputs": [
    {
     "data": {
      "text/plain": [
       "False"
      ]
     },
     "execution_count": 85,
     "metadata": {},
     "output_type": "execute_result"
    }
   ],
   "source": [
    "h1.is_alive"
   ]
  },
  {
   "cell_type": "code",
   "execution_count": 86,
   "metadata": {},
   "outputs": [
    {
     "data": {
      "text/plain": [
       "0"
      ]
     },
     "execution_count": 86,
     "metadata": {},
     "output_type": "execute_result"
    }
   ],
   "source": [
    "Human.population"
   ]
  },
  {
   "cell_type": "code",
   "execution_count": 87,
   "metadata": {},
   "outputs": [
    {
     "name": "stdout",
     "output_type": "stream",
     "text": [
      "Mohit is already dead\n"
     ]
    }
   ],
   "source": [
    "h1.die()"
   ]
  },
  {
   "cell_type": "code",
   "execution_count": 89,
   "metadata": {},
   "outputs": [
    {
     "data": {
      "text/plain": [
       "0"
      ]
     },
     "execution_count": 89,
     "metadata": {},
     "output_type": "execute_result"
    }
   ],
   "source": [
    "Human.population"
   ]
  },
  {
   "cell_type": "code",
   "execution_count": 99,
   "metadata": {},
   "outputs": [],
   "source": [
    "class Human():\n",
    "    \n",
    "    #class variable\n",
    "    database = []\n",
    "    population = 0\n",
    "    id_seq = 100\n",
    "    \n",
    "    \n",
    "    #constructor\n",
    "    def __init__(self, name, age, is_alive=True):\n",
    "        #instance variables\n",
    "        self.name = name\n",
    "        self.age = age\n",
    "        self.is_alive = is_alive\n",
    "        \n",
    "        #adding id of an object\n",
    "        self.id = Human.id_seq\n",
    "        Human.id_seq += 1\n",
    "        Human.population +=1\n",
    "        Human.database.append(self)\n",
    "        \n",
    "\n",
    "    def introduce(self):\n",
    "        print(\"Hi, My name is\", self.name, \"My age is\", self.age)\n",
    "        \n",
    "    def die(self):\n",
    "        if self.is_alive:\n",
    "            print(self.name, \"is dying\")\n",
    "            self.is_alive = False\n",
    "            Human.population -=1\n",
    "        else:\n",
    "            print(\"{} is already dead\".format(self.name))\n",
    "            \n",
    "    #magic function\n",
    "    def __repr__(self):\n",
    "        \"\"\"\n",
    "        this function needs to return a string\n",
    "        \n",
    "        \"\"\"\n",
    "        return \"[{}, {}, {}, {} ]\". format(self.id, self.name, self.age, self.is_alive)"
   ]
  },
  {
   "cell_type": "code",
   "execution_count": 100,
   "metadata": {},
   "outputs": [],
   "source": [
    "h1 = Human (\"Mohit\", 23)"
   ]
  },
  {
   "cell_type": "code",
   "execution_count": 101,
   "metadata": {},
   "outputs": [
    {
     "name": "stdout",
     "output_type": "stream",
     "text": [
      "[100, Mohit, 23, True ]\n"
     ]
    }
   ],
   "source": [
    "print(h1)"
   ]
  },
  {
   "cell_type": "code",
   "execution_count": 102,
   "metadata": {},
   "outputs": [
    {
     "data": {
      "text/plain": [
       "[[100, Mohit, 23, True ]]"
      ]
     },
     "execution_count": 102,
     "metadata": {},
     "output_type": "execute_result"
    }
   ],
   "source": [
    "Human.database"
   ]
  },
  {
   "cell_type": "code",
   "execution_count": 103,
   "metadata": {},
   "outputs": [
    {
     "name": "stdout",
     "output_type": "stream",
     "text": [
      "Mohit is dying\n"
     ]
    }
   ],
   "source": [
    "h1.die()"
   ]
  },
  {
   "cell_type": "code",
   "execution_count": 104,
   "metadata": {},
   "outputs": [
    {
     "name": "stdout",
     "output_type": "stream",
     "text": [
      "[100, Mohit, 23, False ]\n"
     ]
    }
   ],
   "source": [
    "print(h1)"
   ]
  },
  {
   "cell_type": "code",
   "execution_count": 105,
   "metadata": {},
   "outputs": [
    {
     "data": {
      "text/plain": [
       "['__class__',\n",
       " '__delattr__',\n",
       " '__dict__',\n",
       " '__dir__',\n",
       " '__doc__',\n",
       " '__eq__',\n",
       " '__format__',\n",
       " '__ge__',\n",
       " '__getattribute__',\n",
       " '__gt__',\n",
       " '__hash__',\n",
       " '__init__',\n",
       " '__init_subclass__',\n",
       " '__le__',\n",
       " '__lt__',\n",
       " '__module__',\n",
       " '__ne__',\n",
       " '__new__',\n",
       " '__reduce__',\n",
       " '__reduce_ex__',\n",
       " '__repr__',\n",
       " '__setattr__',\n",
       " '__sizeof__',\n",
       " '__str__',\n",
       " '__subclasshook__',\n",
       " '__weakref__',\n",
       " 'age',\n",
       " 'database',\n",
       " 'die',\n",
       " 'id',\n",
       " 'id_seq',\n",
       " 'introduce',\n",
       " 'is_alive',\n",
       " 'name',\n",
       " 'population']"
      ]
     },
     "execution_count": 105,
     "metadata": {},
     "output_type": "execute_result"
    }
   ],
   "source": [
    "dir(h1)"
   ]
  },
  {
   "cell_type": "code",
   "execution_count": 112,
   "metadata": {},
   "outputs": [],
   "source": [
    "# Parent class\n",
    "\n",
    "class Human():\n",
    "    \n",
    "    #class variable\n",
    "    database = []\n",
    "    population = 0\n",
    "    id_seq = 100\n",
    "    \n",
    "    \n",
    "    #constructor\n",
    "    def __init__(self, name, age, is_alive=True):\n",
    "        #instance variables\n",
    "        self.name = name\n",
    "        self.age = age\n",
    "        self.is_alive = is_alive\n",
    "        \n",
    "        #adding id of an object\n",
    "        self.id = Human.id_seq\n",
    "        Human.id_seq += 1\n",
    "        Human.population +=1\n",
    "        Human.database.append(self)\n",
    "        \n",
    "\n",
    "    def introduce(self):\n",
    "        print(\"Hi, My name is\", self.name, \"My age is\", self.age)\n",
    "        \n",
    "    def die(self):\n",
    "        if self.is_alive:\n",
    "            print(self.name, \"is dying\")\n",
    "            self.is_alive = False\n",
    "            Human.population -=1\n",
    "        else:\n",
    "            print(\"{} is already dead\".format(self.name))\n",
    "            \n",
    "    #magic function\n",
    "    def __repr__(self):\n",
    "        \"\"\"\n",
    "        this function needs to return a string\n",
    "        \n",
    "        \"\"\"\n",
    "        return \"[{}, {}, {}, {} ]\". format(self.id, self.name, self.age, self.is_alive)\n",
    "    \n",
    "  "
   ]
  },
  {
   "cell_type": "code",
   "execution_count": 113,
   "metadata": {},
   "outputs": [],
   "source": [
    "# Child class\n",
    "class Hitman(Human):\n",
    "    \n",
    "    #constructor\n",
    "    def __init__(self, name, age):\n",
    "        super().__init__(name, age)\n",
    "        \n",
    "        #additional hitman properties\n",
    "        self.kills =0\n",
    "        self.kill_list = []\n",
    "        "
   ]
  },
  {
   "cell_type": "code",
   "execution_count": 115,
   "metadata": {},
   "outputs": [],
   "source": [
    "h1 = Human (\"Mohit\", 23)\n",
    "h2 = Human(\"prateek\", 27)\n",
    "h3 = Human (\"Jatin\", 26)"
   ]
  },
  {
   "cell_type": "code",
   "execution_count": 116,
   "metadata": {},
   "outputs": [
    {
     "data": {
      "text/plain": [
       "4"
      ]
     },
     "execution_count": 116,
     "metadata": {},
     "output_type": "execute_result"
    }
   ],
   "source": [
    "Human.population"
   ]
  },
  {
   "cell_type": "code",
   "execution_count": 117,
   "metadata": {},
   "outputs": [
    {
     "data": {
      "text/plain": [
       "[[100, Mohit, 23, True ],\n",
       " [101, Mohit, 23, True ],\n",
       " [102, prateek, 27, True ],\n",
       " [103, Jatin, 26, True ]]"
      ]
     },
     "execution_count": 117,
     "metadata": {},
     "output_type": "execute_result"
    }
   ],
   "source": [
    "Human.database"
   ]
  },
  {
   "cell_type": "code",
   "execution_count": 118,
   "metadata": {},
   "outputs": [],
   "source": [
    "#creating a hitman\n",
    "bond =  Hitman (\"James\" , 30)"
   ]
  },
  {
   "cell_type": "code",
   "execution_count": 119,
   "metadata": {},
   "outputs": [
    {
     "data": {
      "text/plain": [
       "5"
      ]
     },
     "execution_count": 119,
     "metadata": {},
     "output_type": "execute_result"
    }
   ],
   "source": [
    "Human.population"
   ]
  },
  {
   "cell_type": "code",
   "execution_count": 120,
   "metadata": {},
   "outputs": [
    {
     "data": {
      "text/plain": [
       "[[100, Mohit, 23, True ],\n",
       " [101, Mohit, 23, True ],\n",
       " [102, prateek, 27, True ],\n",
       " [103, Jatin, 26, True ],\n",
       " [104, James, 30, True ]]"
      ]
     },
     "execution_count": 120,
     "metadata": {},
     "output_type": "execute_result"
    }
   ],
   "source": [
    "Human.database"
   ]
  },
  {
   "cell_type": "code",
   "execution_count": 121,
   "metadata": {},
   "outputs": [
    {
     "name": "stdout",
     "output_type": "stream",
     "text": [
      "[104, James, 30, True ]\n"
     ]
    }
   ],
   "source": [
    "print(bond)"
   ]
  },
  {
   "cell_type": "code",
   "execution_count": 122,
   "metadata": {},
   "outputs": [
    {
     "name": "stdout",
     "output_type": "stream",
     "text": [
      "Hi, My name is James My age is 30\n"
     ]
    }
   ],
   "source": [
    "bond.introduce()"
   ]
  },
  {
   "cell_type": "code",
   "execution_count": 136,
   "metadata": {},
   "outputs": [],
   "source": [
    "# Parent class\n",
    "\n",
    "class Human():\n",
    "    \n",
    "    #class variable\n",
    "    database = []\n",
    "    population = 0\n",
    "    id_seq = 100\n",
    "    \n",
    "    \n",
    "    #constructor\n",
    "    def __init__(self, name, age, is_alive=True):\n",
    "        #instance variables\n",
    "        self.name = name\n",
    "        self.age = age\n",
    "        self.is_alive = is_alive\n",
    "        \n",
    "        #adding id of an object\n",
    "        self.id = Human.id_seq\n",
    "        Human.id_seq += 1\n",
    "        Human.population +=1\n",
    "        Human.database.append(self)\n",
    "        \n",
    "\n",
    "    def introduce(self):\n",
    "        print(\"Hi, My name is\", self.name, \"My age is\", self.age)\n",
    "        \n",
    "    def die(self):\n",
    "        if self.is_alive:\n",
    "            print(self.name, \"is dying\")\n",
    "            self.is_alive = False\n",
    "            Human.population -=1\n",
    "        else:\n",
    "            print(\"{} is already dead\".format(self.name))\n",
    "            \n",
    "    #magic function\n",
    "    def __repr__(self):\n",
    "        \"\"\"\n",
    "        this function needs to return a string\n",
    "        \n",
    "        \"\"\"\n",
    "        return \"[{}, {}, {}, {} ]\". format(self.id, self.name, self.age, self.is_alive)\n",
    "    \n",
    "  # Child class\n",
    "class Hitman(Human):\n",
    "    \n",
    "    #constructor\n",
    "    def __init__(self, name, age):\n",
    "        super().__init__(name, age)\n",
    "        \n",
    "        #additional hitman properties\n",
    "        self.kills =0\n",
    "        self.kill_list = []\n",
    "        \n",
    "    def kill(self, person):\n",
    "        \"\"\"\n",
    "        person will be an obj of Human\n",
    "    \n",
    "        \"\"\"\n",
    "        if person.is_alive:\n",
    "            print (\"{} is killing {}\" .format (self.name, person.name))\n",
    "            person.die()\n",
    "            self.kills+=1\n",
    "            self.kill_list.append(person)\n",
    "            \n",
    "        else:\n",
    "            print(\"{} is already dead\".format(person.name))"
   ]
  },
  {
   "cell_type": "code",
   "execution_count": 137,
   "metadata": {},
   "outputs": [],
   "source": [
    "h1 = Human (\"Mohit\", 23)\n",
    "h2 = Human(\"prateek\", 27)\n",
    "h3 = Human (\"Jatin\", 26)"
   ]
  },
  {
   "cell_type": "code",
   "execution_count": 138,
   "metadata": {},
   "outputs": [],
   "source": [
    "bond =  Hitman (\"James\" , 30)"
   ]
  },
  {
   "cell_type": "code",
   "execution_count": 139,
   "metadata": {},
   "outputs": [
    {
     "data": {
      "text/plain": [
       "[[100, Mohit, 23, True ],\n",
       " [101, prateek, 27, True ],\n",
       " [102, Jatin, 26, True ],\n",
       " [103, James, 30, True ]]"
      ]
     },
     "execution_count": 139,
     "metadata": {},
     "output_type": "execute_result"
    }
   ],
   "source": [
    "Human.database"
   ]
  },
  {
   "cell_type": "code",
   "execution_count": 140,
   "metadata": {},
   "outputs": [
    {
     "name": "stdout",
     "output_type": "stream",
     "text": [
      "James is killing Jatin\n",
      "Jatin is dying\n"
     ]
    }
   ],
   "source": [
    "bond.kill(h3\n",
    "         )"
   ]
  },
  {
   "cell_type": "code",
   "execution_count": 141,
   "metadata": {},
   "outputs": [
    {
     "data": {
      "text/plain": [
       "1"
      ]
     },
     "execution_count": 141,
     "metadata": {},
     "output_type": "execute_result"
    }
   ],
   "source": [
    "bond.kills"
   ]
  },
  {
   "cell_type": "code",
   "execution_count": 142,
   "metadata": {},
   "outputs": [
    {
     "data": {
      "text/plain": [
       "[[102, Jatin, 26, False ]]"
      ]
     },
     "execution_count": 142,
     "metadata": {},
     "output_type": "execute_result"
    }
   ],
   "source": [
    "bond.kill_list"
   ]
  },
  {
   "cell_type": "code",
   "execution_count": 143,
   "metadata": {},
   "outputs": [
    {
     "data": {
      "text/plain": [
       "3"
      ]
     },
     "execution_count": 143,
     "metadata": {},
     "output_type": "execute_result"
    }
   ],
   "source": [
    "Human.population"
   ]
  },
  {
   "cell_type": "code",
   "execution_count": 144,
   "metadata": {},
   "outputs": [
    {
     "data": {
      "text/plain": [
       "[[100, Mohit, 23, True ],\n",
       " [101, prateek, 27, True ],\n",
       " [102, Jatin, 26, False ],\n",
       " [103, James, 30, True ]]"
      ]
     },
     "execution_count": 144,
     "metadata": {},
     "output_type": "execute_result"
    }
   ],
   "source": [
    "Human.database\n"
   ]
  },
  {
   "cell_type": "code",
   "execution_count": 145,
   "metadata": {},
   "outputs": [
    {
     "name": "stdout",
     "output_type": "stream",
     "text": [
      "Jatin is already dead\n"
     ]
    }
   ],
   "source": [
    "bond.kill(h3)"
   ]
  },
  {
   "cell_type": "code",
   "execution_count": 155,
   "metadata": {},
   "outputs": [],
   "source": [
    "# Parent class\n",
    "\n",
    "class Human():\n",
    "    \n",
    "    #class variable\n",
    "    database = []\n",
    "    population = 0\n",
    "    id_seq = 100\n",
    "    \n",
    "    \n",
    "    #constructor\n",
    "    def __init__(self, name, age, is_alive=True):\n",
    "        #instance variables\n",
    "        self.name = name\n",
    "        self.age = age\n",
    "        self.is_alive = is_alive\n",
    "        \n",
    "        #adding id of an object\n",
    "        self.id = Human.id_seq\n",
    "        Human.id_seq += 1\n",
    "        Human.population +=1\n",
    "        Human.database.append(self)\n",
    "        \n",
    "\n",
    "    def introduce(self):\n",
    "        print(\"Hi, My name is\", self.name, \"My age is\", self.age)\n",
    "        \n",
    "    def die(self):\n",
    "        if self.is_alive:\n",
    "            print(self.name, \"is dying\")\n",
    "            self.is_alive = False\n",
    "            Human.population -=1\n",
    "        else:\n",
    "            print(\"{} is already dead\".format(self.name))\n",
    "            \n",
    "    #magic function\n",
    "    def __repr__(self):\n",
    "        \"\"\"\n",
    "        this function needs to return a string\n",
    "        \n",
    "        \"\"\"\n",
    "        return \"[{}, {}, {}, {} ]\". format(self.id, self.name, self.age, self.is_alive)\n",
    "    \n",
    "  # Child class\n",
    "class Hitman(Human):\n",
    "    \n",
    "    #constructor\n",
    "    def __init__(self, name, age):\n",
    "        super().__init__(name, age)\n",
    "        \n",
    "        #additional hitman properties\n",
    "        self.kills =0\n",
    "        self.kill_list = []\n",
    "        \n",
    "    def kill(self, person):\n",
    "        \"\"\"\n",
    "        person will be an obj of Human\n",
    "    \n",
    "        \"\"\"\n",
    "        if person.is_alive:\n",
    "            print (\"{} is killing {}\" .format (self.name, person.name))\n",
    "            person.die()\n",
    "            self.kills+=1\n",
    "            self.kill_list.append(person)\n",
    "            \n",
    "        else:\n",
    "            print(\"{} is already dead\".format(person.name))\n",
    "        \n",
    "   #function overriding\n",
    "    def introduce(self):\n",
    "        print(\"Hi, my name is {}, I've killed {} people\".format(self.name, self.kills))"
   ]
  },
  {
   "cell_type": "code",
   "execution_count": 156,
   "metadata": {},
   "outputs": [],
   "source": [
    "h1 = Human (\"Mohit\", 23)\n",
    "h2 = Human(\"prateek\", 27)\n",
    "h3 = Human (\"Jatin\", 26)"
   ]
  },
  {
   "cell_type": "code",
   "execution_count": 157,
   "metadata": {},
   "outputs": [],
   "source": [
    "bond =  Hitman (\"James\" , 30)"
   ]
  },
  {
   "cell_type": "code",
   "execution_count": 158,
   "metadata": {},
   "outputs": [
    {
     "name": "stdout",
     "output_type": "stream",
     "text": [
      "James is killing Jatin\n",
      "Jatin is dying\n"
     ]
    }
   ],
   "source": [
    "bond.kill(h3)"
   ]
  },
  {
   "cell_type": "code",
   "execution_count": 159,
   "metadata": {},
   "outputs": [
    {
     "name": "stdout",
     "output_type": "stream",
     "text": [
      "Hi, My name is Mohit My age is 23\n"
     ]
    }
   ],
   "source": [
    "h1.introduce()"
   ]
  },
  {
   "cell_type": "code",
   "execution_count": 160,
   "metadata": {},
   "outputs": [
    {
     "name": "stdout",
     "output_type": "stream",
     "text": [
      "Hi, my name is James, I've killed 1 people\n"
     ]
    }
   ],
   "source": [
    "bond.introduce()"
   ]
  },
  {
   "cell_type": "code",
   "execution_count": 161,
   "metadata": {},
   "outputs": [
    {
     "name": "stdout",
     "output_type": "stream",
     "text": [
      "James is killing Mohit\n",
      "Mohit is dying\n"
     ]
    }
   ],
   "source": [
    "bond.kill(h1)"
   ]
  },
  {
   "cell_type": "code",
   "execution_count": 162,
   "metadata": {},
   "outputs": [
    {
     "name": "stdout",
     "output_type": "stream",
     "text": [
      "Hi, my name is James, I've killed 2 people\n"
     ]
    }
   ],
   "source": [
    "bond.introduce()"
   ]
  },
  {
   "cell_type": "code",
   "execution_count": 202,
   "metadata": {},
   "outputs": [],
   "source": [
    "#Exercise\n",
    "\n",
    "class SchoolMember():\n",
    "    \n",
    "    def __init__(self, name, age):\n",
    "        self.name = name\n",
    "        self.age = age\n",
    "        \n",
    "    def Introduce(self):\n",
    "        return(\"My name is {}. I am {} years old .\".format(self.name,self.age) )\n",
    "        \n",
    "        \n",
    "class Student(SchoolMember):\n",
    "    def __init__(self,name, age, my_class, roll_no):\n",
    "        super().__init__(name, age)\n",
    "        \n",
    "        self.my_class = my_class\n",
    "        self.roll_no = roll_no\n",
    "        \n",
    "    def Introduce(self):\n",
    "        return(\"I am in {} class. My roll number is {}. \".format(self.my_class, self.roll_no))\n",
    "        \n",
    "\n",
    "class Teacher(SchoolMember):\n",
    "    def __init__(self,name,age, subject,salary):\n",
    "    \n",
    "         super().__init__(name, age)\n",
    "         self.subject = subject\n",
    "         self.salary = salary\n",
    "        \n",
    "    def Introduce (self):\n",
    "         return(\"I teach {} subject. My salary is {}.\".format(self.subject, self.salary))"
   ]
  },
  {
   "cell_type": "code",
   "execution_count": 208,
   "metadata": {},
   "outputs": [],
   "source": [
    "h1= SchoolMember(\"Mohit\", 23)\n"
   ]
  },
  {
   "cell_type": "code",
   "execution_count": 209,
   "metadata": {},
   "outputs": [
    {
     "data": {
      "text/plain": [
       "'My name is Mohit. I am 23 years old .'"
      ]
     },
     "execution_count": 209,
     "metadata": {},
     "output_type": "execute_result"
    }
   ],
   "source": [
    "h1.Introduce()"
   ]
  },
  {
   "cell_type": "code",
   "execution_count": null,
   "metadata": {},
   "outputs": [],
   "source": []
  },
  {
   "cell_type": "code",
   "execution_count": null,
   "metadata": {},
   "outputs": [],
   "source": []
  }
 ],
 "metadata": {
  "kernelspec": {
   "display_name": "Python 3",
   "language": "python",
   "name": "python3"
  },
  "language_info": {
   "codemirror_mode": {
    "name": "ipython",
    "version": 3
   },
   "file_extension": ".py",
   "mimetype": "text/x-python",
   "name": "python",
   "nbconvert_exporter": "python",
   "pygments_lexer": "ipython3",
   "version": "3.8.5"
  }
 },
 "nbformat": 4,
 "nbformat_minor": 4
}
